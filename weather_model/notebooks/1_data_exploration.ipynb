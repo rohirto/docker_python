{
 "cells": [
  {
   "cell_type": "code",
   "execution_count": 1,
   "metadata": {},
   "outputs": [],
   "source": [
    "import datetime\n",
    "import sys\n",
    "sys.path.append('/workspaces/docker_python')\n",
    "from weather_model.src.data_loader import load_humidity_data, load_temperature_data\n",
    "import pandas as pd\n",
    "\n",
    "import numpy as np\n"
   ]
  },
  {
   "cell_type": "code",
   "execution_count": 2,
   "metadata": {},
   "outputs": [],
   "source": [
    "# Util functions\n",
    "def unix_timestamp_decode(timestamp):\n",
    "    \"\"\"Takes UNIX time stamp as input and returns a datetime object based on that\n",
    "\n",
    "    Args:\n",
    "        timestamp (int): UNIX Time stamp\n",
    "    \"\"\"\n",
    "    timestamp_ms = timestamp\n",
    "    # Convert milliseconds to seconds\n",
    "    timestamp_s = timestamp_ms / 1000\n",
    "    # Convert the timestamp to a datetime object\n",
    "    datetime_obj = datetime.datetime.utcfromtimestamp(timestamp_s)\n",
    "    return datetime_obj\n",
    "\n",
    "def compare_h_t_timestamp(h_timestamp, t_timestamp):\n",
    "    \"\"\"To Compare the time stamps of 2 features \n",
    "\n",
    "    Args:\n",
    "        h_timestamp (UNIX Timestamp): Humidity Timestamp\n",
    "        t_timestamp (Unix Timestamp): Temperature Timestamp\n",
    "    \"\"\"\n",
    "    h_tobject = unix_timestamp_decode(h_timestamp)\n",
    "    t_tobject = unix_timestamp_decode(t_timestamp)\n",
    "    \n",
    "    print(f\"Humidity Time stamp {h_tobject}\")\n",
    "    print(f\"Temperature Time stamp {t_tobject}\")\n",
    "    \n",
    "    # Calculate the absolute time difference in seconds - for tolerance purpsoe\n",
    "    time_difference = abs((h_tobject - t_tobject).total_seconds())\n",
    "\n",
    "    # Check if they have the same date and time (hour and minute)\n",
    "    if (h_tobject.date() == t_tobject.date()\n",
    "        and h_tobject.hour == t_tobject.hour\n",
    "        and h_tobject.minute == t_tobject.minute\n",
    "        and time_difference <= 10\n",
    "        ):\n",
    "        return True\n",
    "    else:\n",
    "        return False\n",
    "\n",
    "    \n"
   ]
  },
  {
   "cell_type": "code",
   "execution_count": 3,
   "metadata": {},
   "outputs": [],
   "source": [
    "# Load data and Give name to our dataframes\n",
    "humidity = load_humidity_data()\n",
    "humidity.Name = 'humidity'\n",
    "temperature = load_temperature_data()\n",
    "temperature.Name = 'temperature'"
   ]
  },
  {
   "cell_type": "code",
   "execution_count": 4,
   "metadata": {},
   "outputs": [],
   "source": [
    "# Data Evaluation function\n",
    "def data_evaluation(data):\n",
    "    \"\"\"Function to See the Data Evaluation, sees shape, head and describe\n",
    "\n",
    "    Args:\n",
    "        data (dataframe): Pandas Dataframe\n",
    "    \"\"\"\n",
    "    print(f\"{data.Name} Shape: {data.shape}\")\n",
    "    print(f\"{data.Name} Head:\\n{data.head()} \")\n",
    "    print(f\"{data.Name} Summary Statistics:\\n{data.describe()}\")\n",
    "    print(\"\\n\")\n",
    "    print(f\"{data.Name} Columns:\\n{data.columns}\")"
   ]
  },
  {
   "cell_type": "code",
   "execution_count": 5,
   "metadata": {},
   "outputs": [
    {
     "name": "stdout",
     "output_type": "stream",
     "text": [
      "First Evaluation: \n",
      "humidity Shape: (1588, 4)\n",
      "humidity Head:\n",
      "       timestamp  humidity context_humidity               date (Asia/Kolkata)\n",
      "0  1694955053748      92.0               {}  2023-09-17 18:20:53.748000+05:30\n",
      "1  1694954292122      91.0               {}  2023-09-17 18:08:12.122000+05:30\n",
      "2  1694935992451      69.0               {}  2023-09-17 13:03:12.451000+05:30\n",
      "3  1694935611126      70.0               {}  2023-09-17 12:56:51.126000+05:30\n",
      "4  1694935229794      70.0               {}  2023-09-17 12:50:29.794000+05:30 \n",
      "humidity Summary Statistics:\n",
      "          timestamp    humidity\n",
      "count  1.588000e+03  1588.00000\n",
      "mean   1.693464e+12    75.52330\n",
      "std    6.966737e+08    18.93607\n",
      "min    1.692674e+12     0.00000\n",
      "25%    1.692877e+12    62.00000\n",
      "50%    1.693243e+12    80.00000\n",
      "75%    1.694081e+12    95.00000\n",
      "max    1.694955e+12    95.00000\n",
      "\n",
      "\n",
      "humidity Columns:\n",
      "Index(['timestamp', 'humidity', 'context_humidity', 'date (Asia/Kolkata)'], dtype='object')\n",
      "temperature Shape: (1652, 4)\n",
      "temperature Head:\n",
      "       timestamp  temperature context_temperature  \\\n",
      "0  1694955052848    28.100000                  {}   \n",
      "1  1694954291865    28.400000                  {}   \n",
      "2  1694935991438    32.000000                  {}   \n",
      "3  1694935610124    31.799999                  {}   \n",
      "4  1694935228980    31.299999                  {}   \n",
      "\n",
      "                date (Asia/Kolkata)  \n",
      "0  2023-09-17 18:20:52.848000+05:30  \n",
      "1  2023-09-17 18:08:11.865000+05:30  \n",
      "2  2023-09-17 13:03:11.438000+05:30  \n",
      "3  2023-09-17 12:56:50.124000+05:30  \n",
      "4  2023-09-17 12:50:28.980000+05:30   \n",
      "temperature Summary Statistics:\n",
      "          timestamp  temperature\n",
      "count  1.652000e+03  1652.000000\n",
      "mean   1.693464e+12    30.710291\n",
      "std    6.923200e+08     3.875502\n",
      "min    1.692674e+12     0.000000\n",
      "25%    1.692879e+12    28.799999\n",
      "50%    1.693246e+12    30.500000\n",
      "75%    1.693850e+12    32.500000\n",
      "max    1.694955e+12    39.500000\n",
      "\n",
      "\n",
      "temperature Columns:\n",
      "Index(['timestamp', 'temperature', 'context_temperature',\n",
      "       'date (Asia/Kolkata)'],\n",
      "      dtype='object')\n"
     ]
    }
   ],
   "source": [
    "# Evaluate the data\n",
    "print(\"First Evaluation: \")\n",
    "data_evaluation(humidity)\n",
    "data_evaluation(temperature)\n"
   ]
  },
  {
   "cell_type": "code",
   "execution_count": 6,
   "metadata": {},
   "outputs": [
    {
     "name": "stdout",
     "output_type": "stream",
     "text": [
      "Humidity Time stamp 2023-09-17 12:50:53.748000\n",
      "Temperature Time stamp 2023-09-17 12:50:52.848000\n",
      "Same time stamp\n",
      "\n",
      "\n"
     ]
    }
   ],
   "source": [
    "## Just a trial to see compare time stamp func written by me\n",
    "if (compare_h_t_timestamp(humidity['timestamp'].iloc[0],\n",
    "                        temperature['timestamp'].iloc[0])\n",
    "   ):\n",
    "    print(\"Same time stamp\")\n",
    "else:\n",
    "    print(\"Different timestamp\")\n",
    "\n",
    "print(\"\\n\")\n"
   ]
  },
  {
   "cell_type": "code",
   "execution_count": 7,
   "metadata": {},
   "outputs": [
    {
     "name": "stdout",
     "output_type": "stream",
     "text": [
      "Stored 'humidity' (DataFrame)\n",
      "Stored 'temperature' (DataFrame)\n"
     ]
    },
    {
     "name": "stderr",
     "output_type": "stream",
     "text": [
      "/usr/local/lib/python3.9/site-packages/IPython/extensions/storemagic.py:229: UserWarning: using autorestore/humidity requires you to install the `pickleshare` library.\n",
      "  db[ 'autorestore/' + arg ] = obj\n",
      "/usr/local/lib/python3.9/site-packages/IPython/extensions/storemagic.py:229: UserWarning: using autorestore/temperature requires you to install the `pickleshare` library.\n",
      "  db[ 'autorestore/' + arg ] = obj\n"
     ]
    }
   ],
   "source": [
    "%store humidity\n",
    "%store temperature"
   ]
  }
 ],
 "metadata": {
  "kernelspec": {
   "display_name": "Python 3",
   "language": "python",
   "name": "python3"
  },
  "language_info": {
   "codemirror_mode": {
    "name": "ipython",
    "version": 3
   },
   "file_extension": ".py",
   "mimetype": "text/x-python",
   "name": "python",
   "nbconvert_exporter": "python",
   "pygments_lexer": "ipython3",
   "version": "3.9.17"
  },
  "orig_nbformat": 4
 },
 "nbformat": 4,
 "nbformat_minor": 2
}
